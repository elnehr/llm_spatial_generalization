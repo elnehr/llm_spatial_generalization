{
 "cells": [
  {
   "cell_type": "markdown",
   "metadata": {},
   "source": [
    "# 1. Imports"
   ]
  },
  {
   "cell_type": "code",
   "execution_count": null,
   "metadata": {},
   "outputs": [],
   "source": [
    "import os\n",
    "import fitz  # PyMuPDF\n",
    "import csv\n",
    "import pandas as pd\n",
    "\n",
    "from utils import extract_text_and_save_to_csv"
   ]
  },
  {
   "cell_type": "code",
   "execution_count": null,
   "metadata": {},
   "outputs": [],
   "source": [
    "# list of folders in ../regional_best_practices\n",
    "folders = os.listdir('../regional_best_practices')\n",
    "folders"
   ]
  },
  {
   "cell_type": "code",
   "execution_count": null,
   "metadata": {},
   "outputs": [],
   "source": [
    "countries = ['australia_victoria',\n",
    " 'cambodia',\n",
    " 'germany_thuringia',\n",
    " 'india',\n",
    " 'marocco',\n",
    " 'nigeria',\n",
    " 'south_africa',\n",
    " 'uganda',\n",
    " 'uk',\n",
    " 'usa_arkansas',\n",
    " 'usa_georgia',\n",
    " 'usa_minnesota_north_dakota',\n",
    " 'usa_nebraska',\n",
    " 'usa_south_carolina',\n",
    " 'usa_south_dakota']\n",
    "\n",
    "pdf_path = \"../regional_best_practices/\""
   ]
  },
  {
   "cell_type": "markdown",
   "metadata": {},
   "source": [
    "# 2. Text Extraction from PDFs"
   ]
  },
  {
   "cell_type": "code",
   "execution_count": null,
   "metadata": {},
   "outputs": [],
   "source": [
    "folder_paths = [pdf_path + country for country in countries]\n",
    "output_csv_file = '../temp_data/extracted_text.csv'\n",
    "extract_text_and_save_to_csv(folder_paths, output_csv_file)"
   ]
  }
 ],
 "metadata": {
  "kernelspec": {
   "display_name": "llm_env",
   "language": "python",
   "name": "python3"
  },
  "language_info": {
   "codemirror_mode": {
    "name": "ipython",
    "version": 3
   },
   "file_extension": ".py",
   "mimetype": "text/x-python",
   "name": "python",
   "nbconvert_exporter": "python",
   "pygments_lexer": "ipython3",
   "version": "3.10.11"
  }
 },
 "nbformat": 4,
 "nbformat_minor": 2
}
